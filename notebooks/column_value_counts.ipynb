{
 "cells": [
  {
   "cell_type": "code",
   "execution_count": 22,
   "id": "5791c5c6-963b-4537-8246-abf7e2b1fb31",
   "metadata": {},
   "outputs": [],
   "source": [
    "import pandas as pd\n",
    "path=\"../data/student_depression_dataset.csv\"\n",
    "df = pd.read_csv(path)"
   ]
  },
  {
   "cell_type": "code",
   "execution_count": 23,
   "id": "53d47d59-176a-4be3-bc96-a95e5dd51de2",
   "metadata": {},
   "outputs": [
    {
     "data": {
      "text/plain": [
       "City\n",
       "Kalyan                  1570\n",
       "Srinagar                1372\n",
       "Hyderabad               1340\n",
       "Vasai-Virar             1290\n",
       "Lucknow                 1155\n",
       "Thane                   1139\n",
       "Ludhiana                1111\n",
       "Agra                    1094\n",
       "Surat                   1078\n",
       "Kolkata                 1066\n",
       "Jaipur                  1036\n",
       "Patna                   1007\n",
       "Visakhapatnam            969\n",
       "Pune                     968\n",
       "Ahmedabad                951\n",
       "Bhopal                   934\n",
       "Chennai                  885\n",
       "Meerut                   825\n",
       "Rajkot                   816\n",
       "Delhi                    768\n",
       "Bangalore                767\n",
       "Ghaziabad                745\n",
       "Mumbai                   699\n",
       "Vadodara                 694\n",
       "Varanasi                 685\n",
       "Nagpur                   651\n",
       "Indore                   643\n",
       "Kanpur                   609\n",
       "Nashik                   547\n",
       "Faridabad                461\n",
       "Saanvi                     2\n",
       "Bhavna                     2\n",
       "City                       2\n",
       "Harsha                     2\n",
       "Kibara                     1\n",
       "Nandini                    1\n",
       "Nalini                     1\n",
       "Mihir                      1\n",
       "Nalyan                     1\n",
       "M.Com                      1\n",
       "ME                         1\n",
       "Rashi                      1\n",
       "Gaurav                     1\n",
       "Reyansh                    1\n",
       "Harsh                      1\n",
       "Vaanya                     1\n",
       "Mira                       1\n",
       "'Less than 5 Kalyan'       1\n",
       "3.0                        1\n",
       "'Less Delhi'               1\n",
       "M.Tech                     1\n",
       "Khaziabad                  1\n",
       "Name: count, dtype: int64"
      ]
     },
     "execution_count": 23,
     "metadata": {},
     "output_type": "execute_result"
    }
   ],
   "source": [
    "df[\"City\"].value_counts()\n"
   ]
  },
  {
   "cell_type": "code",
   "execution_count": 24,
   "id": "b6f467aa-ad81-4925-932a-eb2845ff3688",
   "metadata": {},
   "outputs": [
    {
     "data": {
      "text/plain": [
       "Profession\n",
       "Student                     27870\n",
       "Architect                       8\n",
       "Teacher                         6\n",
       "'Digital Marketer'              3\n",
       "'Content Writer'                2\n",
       "Chef                            2\n",
       "Doctor                          2\n",
       "Pharmacist                      2\n",
       "'Civil Engineer'                1\n",
       "'UX/UI Designer'                1\n",
       "'Educational Consultant'        1\n",
       "Manager                         1\n",
       "Lawyer                          1\n",
       "Entrepreneur                    1\n",
       "Name: count, dtype: int64"
      ]
     },
     "execution_count": 24,
     "metadata": {},
     "output_type": "execute_result"
    }
   ],
   "source": [
    "df[\"Profession\"].value_counts()\n"
   ]
  },
  {
   "cell_type": "code",
   "execution_count": 25,
   "id": "7f38395f-256b-4795-85ab-b6fe9afe2285",
   "metadata": {},
   "outputs": [
    {
     "data": {
      "text/plain": [
       "Sleep Duration\n",
       "'Less than 5 hours'    8310\n",
       "'7-8 hours'            7346\n",
       "'5-6 hours'            6183\n",
       "'More than 8 hours'    6044\n",
       "Others                   18\n",
       "Name: count, dtype: int64"
      ]
     },
     "execution_count": 25,
     "metadata": {},
     "output_type": "execute_result"
    }
   ],
   "source": [
    "df[\"Sleep Duration\"].value_counts()\n"
   ]
  },
  {
   "cell_type": "code",
   "execution_count": 26,
   "id": "34660c6a-2e24-41d9-bada-3e1010fb07ce",
   "metadata": {},
   "outputs": [
    {
     "data": {
      "text/plain": [
       "Dietary Habits\n",
       "Unhealthy    10317\n",
       "Moderate      9921\n",
       "Healthy       7651\n",
       "Others          12\n",
       "Name: count, dtype: int64"
      ]
     },
     "execution_count": 26,
     "metadata": {},
     "output_type": "execute_result"
    }
   ],
   "source": [
    "df[\"Dietary Habits\"].value_counts()\n"
   ]
  },
  {
   "cell_type": "code",
   "execution_count": 27,
   "id": "4bec3a9a-44d9-4831-b7cd-4b9565a014ff",
   "metadata": {},
   "outputs": [
    {
     "data": {
      "text/plain": [
       "Degree\n",
       "'Class 12'    6080\n",
       "B.Ed          1867\n",
       "B.Com         1506\n",
       "B.Arch        1478\n",
       "BCA           1433\n",
       "MSc           1190\n",
       "B.Tech        1152\n",
       "MCA           1044\n",
       "M.Tech        1022\n",
       "BHM            925\n",
       "BSc            888\n",
       "M.Ed           821\n",
       "B.Pharm        810\n",
       "M.Com          734\n",
       "MBBS           696\n",
       "BBA            696\n",
       "LLB            671\n",
       "BE             613\n",
       "BA             600\n",
       "M.Pharm        582\n",
       "MD             572\n",
       "MBA            562\n",
       "MA             544\n",
       "PhD            522\n",
       "LLM            482\n",
       "MHM            191\n",
       "ME             185\n",
       "Others          35\n",
       "Name: count, dtype: int64"
      ]
     },
     "execution_count": 27,
     "metadata": {},
     "output_type": "execute_result"
    }
   ],
   "source": [
    "df[\"Degree\"].value_counts()"
   ]
  }
 ],
 "metadata": {
  "kernelspec": {
   "display_name": "Python 3 (ipykernel)",
   "language": "python",
   "name": "python3"
  },
  "language_info": {
   "codemirror_mode": {
    "name": "ipython",
    "version": 3
   },
   "file_extension": ".py",
   "mimetype": "text/x-python",
   "name": "python",
   "nbconvert_exporter": "python",
   "pygments_lexer": "ipython3",
   "version": "3.12.1"
  }
 },
 "nbformat": 4,
 "nbformat_minor": 5
}
